{
 "cells": [
  {
   "cell_type": "code",
   "execution_count": 4,
   "metadata": {},
   "outputs": [],
   "source": [
    "import numpy as np\n",
    "import pandas as pd\n",
    "import matplotlib.pyplot as plt\n",
    "from skimage import io\n",
    "from glob import glob\n",
    "import os\n",
    "from datetime import datetime\n",
    "import matplotlib\n",
    "import matplotlib.patches as patches\n",
    "\n",
    "matplotlib.rcParams.update({'errorbar.capsize': 4})"
   ]
  },
  {
   "cell_type": "code",
   "execution_count": 1,
   "metadata": {},
   "outputs": [],
   "source": [
    "SETUP_NAME = \"Barium-Tagging\"\n",
    "EXCITATION_FILTER = \"Center-527nm_Width-22nm\",\n",
    "DOUBLE_FILTER = \"Center-561nm_Width-21nm\"\n",
    "LEFTOVER_FILTER = \"Center-500nm_Width-29nm\",\n",
    "LASER_WAVELENGTH = \"515nm\"\n",
    "LASER_SOURCE = \"TOptica\"\n",
    "DICHROIC_MIRROR_CUTTOFF = \"550nm\"\n",
    "N_DMIRRORS = 3\n",
    "MICROSCOPE_OBJECTIVE = \"Mitutoyo_50x_NA_0.5\"\n",
    "exposure = 10\n",
    "EXPOSURE_TIME = str(exposure)+'s'\n",
    "\n",
    "def namestr(obj, namespace):\n",
    "    return [name for name in namespace if namespace[name] is obj]\n",
    "\n",
    "def write_settings_static(fout):\n",
    "\n",
    "    settings = [SETUP_NAME, LASER_WAVELENGTH, \n",
    "                LASER_SOURCE, DICHROIC_MIRROR_CUTTOFF,\n",
    "                N_DMIRRORS, MICROSCOPE_OBJECTIVE,\n",
    "                EXPOSURE_TIME]\n",
    "    # Make a list of strings with the name of the variable and its value:\n",
    "    fsettings = [f'{namestr(v, globals())[0]}: {v}' for v in settings]  \n",
    "\n",
    "    with open(fout, 'w') as fo:\n",
    "        fo.write('\\n'.join(fsettings))\n",
    "\n",
    "def read_settings(fin):\n",
    "    df_settings = pd.read_csv(fin, sep=':', names=['setting', 'value'], index_col='setting')\n",
    "    return df_settings\n",
    "\n"
   ]
  },
  {
   "cell_type": "code",
   "execution_count": 2,
   "metadata": {},
   "outputs": [],
   "source": [
    "DICT_MICROSCOPE_OBJECTIVE = {1: \"Mitutoyo_50x_NA_0.5\",\n",
    "                             2: \"Nikon_60x_NA_0.95\"}\n",
    "\n",
    "DICT_LASER_SOURCE = {1: \"TOptica\",\n",
    "                     2: \"Diode\"}\n",
    "\n",
    "def edit_dropdown(key, dictionary):\n",
    "    dropdowns = {'laser': DICT_LASER_SOURCE, 'obj': DICT_MICROSCOPE_OBJECTIVE}\n",
    "    current_dict = dropdowns[dictionary]\n",
    "    while True:\n",
    "        print(f'\\nEditing {df_settings.setting[key]} = {df_settings.value[key]}')\n",
    "        print(current_dict)\n",
    "        print(\"\\nPress 'q' to quit\\n\" )\n",
    "\n",
    "        subkey = input('\\nSelect option\\n')\n",
    "        if subkey == 'q':\n",
    "            break\n",
    "        elif int(subkey) in current_dict:\n",
    "            subkey = int(subkey)\n",
    "            df_settings.loc[subkey, 'value'] = current_dict[subkey]\n",
    "            break\n",
    "        else:\n",
    "            print(\"invalid key\")\n",
    "            break\n",
    "\n",
    "def edit_settings():\n",
    "    while True:\n",
    "        print(df_settings)\n",
    "        print(\"\\nPress 'q' to quit\\n\" )\n",
    "        key = input('\\nSelect key\\n')\n",
    "        if key == 'q':\n",
    "            break\n",
    "        elif int(key) in df_settings.index:\n",
    "            key = int(key)\n",
    "            if (df_settings.setting[key] == 'LASER_SOURCE'):\n",
    "                edit_dropdown(key, 'laser')\n",
    "            elif  (df_settings.setting[key] == 'MICROSCOPE_OBJECTIVE'):\n",
    "                edit_dropdown(key, 'obj')\n",
    "            else:\n",
    "                print(f'\\nEditing {df_settings.setting[key]} = {df_settings.value[key]}')\n",
    "                value = input('\\nEnter value:\\n')\n",
    "                df_settings.loc[key, 'value'] = value\n",
    "        \n",
    "        else:\n",
    "            print(\"invalid key\")\n",
    "            break\n",
    "        return df_settings"
   ]
  },
  {
   "cell_type": "code",
   "execution_count": null,
   "metadata": {},
   "outputs": [],
   "source": [
    "fout = '/Users/pabloherrero/Library/CloudStorage/GoogleDrive-qmlab@mail.huji.ac.il/My Drive/Ba Tagging/data/img/sets/08-12-24/Rhodamine-B 50 µM/1/settings.txt'\n",
    "\n",
    "write_settings_static(fout)"
   ]
  },
  {
   "cell_type": "code",
   "execution_count": null,
   "metadata": {},
   "outputs": [],
   "source": [
    "edit_settings()"
   ]
  },
  {
   "cell_type": "code",
   "execution_count": null,
   "metadata": {},
   "outputs": [],
   "source": [
    "pathfind = '/Users/pabloherrero/Library/CloudStorage/GoogleDrive-qmlab@mail.huji.ac.il/My Drive/Ba Tagging/data/img/sets/'\n",
    "def find_recent_settings(pathfind):\n",
    "    finds = glob(pathfind+'**/**/**/settings.txt')\n",
    "    dirs = [f[:len(pathfind)+8] for f in finds]\n",
    "    datestr = [os.path.split(d)[1] for d in dirs]\n",
    "    dates = [datetime.strptime(dstr, \"%d-%m-%y\") for dstr in datestr]\n",
    "    dir_recent = datetime.strftime(max(dates), \"%d-%m-%y\")\n",
    "    path_recent = os.path.join(pathfind, dir_recent)\n",
    "    recent_settings_path = glob(path_recent+'/**/**/settings.txt')[-1]\n",
    "    return recent_settings_path"
   ]
  },
  {
   "cell_type": "code",
   "execution_count": null,
   "metadata": {},
   "outputs": [],
   "source": [
    "recent_settings_path = find_recent_settings(pathfind)\n",
    "read_settings(recent_settings_path)"
   ]
  }
 ],
 "metadata": {
  "kernelspec": {
   "display_name": "Python 3",
   "language": "python",
   "name": "python3"
  },
  "language_info": {
   "codemirror_mode": {
    "name": "ipython",
    "version": 3
   },
   "file_extension": ".py",
   "mimetype": "text/x-python",
   "name": "python",
   "nbconvert_exporter": "python",
   "pygments_lexer": "ipython3",
   "version": "3.9.6"
  }
 },
 "nbformat": 4,
 "nbformat_minor": 2
}
